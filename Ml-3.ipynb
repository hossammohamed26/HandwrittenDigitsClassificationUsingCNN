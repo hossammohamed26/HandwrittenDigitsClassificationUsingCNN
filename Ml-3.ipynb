{
  "nbformat": 4,
  "nbformat_minor": 0,
  "metadata": {
    "colab": {
      "name": "Ml-3.ipynb",
      "provenance": []
    },
    "kernelspec": {
      "name": "python3",
      "display_name": "Python 3"
    },
    "language_info": {
      "name": "python"
    }
  },
  "cells": [
    {
      "cell_type": "code",
      "execution_count": 93,
      "metadata": {
        "id": "An4Zp-5_IY0k"
      },
      "outputs": [],
      "source": [
        "from tensorflow.keras.layers import Flatten\n",
        "from tensorflow.keras.layers import Dense\n",
        "from tensorflow.keras.layers import MaxPooling2D\n",
        "from tensorflow.keras.layers import Conv2D\n",
        "from tensorflow.keras.models import Sequential\n",
        "import pandas as pd\n",
        "import tensorflow.keras.models as km\n",
        "import tensorflow.keras.layers as kl\n",
        "import tensorflow as tf\n",
        "import numpy as np\n",
        "import matplotlib.pyplot as plt\n",
        "from sklearn.model_selection import train_test_split"
      ]
    },
    {
      "cell_type": "code",
      "source": [
        "def load_dataset():\n",
        "    mnist = tf.keras.datasets.mnist\n",
        "\n",
        "    (x_train, y_train), (x_test, y_test) = mnist.load_data()\n",
        "    x_train = np.array(x_train.reshape((x_train.shape[0], 28, 28, 1)))\n",
        "    x_test = np.array(x_test.reshape((x_test.shape[0], 28, 28, 1)))\n",
        "   \n",
        "    return x_train, y_train, x_test, y_test"
      ],
      "metadata": {
        "id": "KKcSFmEMIiML"
      },
      "execution_count": 94,
      "outputs": []
    },
    {
      "cell_type": "code",
      "source": [
        "def normalize_data(x_train, x_test):\n",
        "    x_train_normalized = x_train.astype('float32')\n",
        "    x_test_normalized = x_test.astype('float32')\n",
        "    x_train_normalized = x_train_normalized/255.0\n",
        "    x_test_normalized = x_test_normalized/255.0\n",
        "    return x_train_normalized, x_test_normalized"
      ],
      "metadata": {
        "id": "BZnmxFJDIo8a"
      },
      "execution_count": 95,
      "outputs": []
    },
    {
      "cell_type": "code",
      "source": [
        "def cnn_model_1():\n",
        "    model = Sequential()\n",
        "    # kernel_initializer='he_uniform' :Draws samples from a uniform distribution within [-limit, limit]\n",
        "    #, where limit = sqrt(6 / fan_in)\n",
        "    #(fan_in is the number of input units in the weight tensor).\n",
        "    #FIRST CONV LAYER\n",
        "    model.add(Conv2D(64, (3, 3), activation='relu',\n",
        "              kernel_initializer='he_uniform', input_shape=(28, 28, 1))) #Initializers define the way to set the initial random weights of Keras layers.\n",
        "    \n",
        "    model.add(MaxPooling2D((2, 2))) #single maximum value of 2x2 will be taken\n",
        "    #SECOND CONV LAYER \n",
        "    model.add(Conv2D(64, (3, 3), activation='relu',\n",
        "              kernel_initializer='he_uniform', input_shape=(28, 28, 1)))\n",
        "    \n",
        "    model.add(MaxPooling2D((2, 2)))\n",
        "    \n",
        "    \n",
        "    model.add(Flatten()) #from 2D to 1D\n",
        "    #FIRST DENSE LAYER\n",
        "    model.add(Dense(100, activation='relu', kernel_initializer='he_uniform')) #fully connected ANN\n",
        "    #SECOND DENSE LAYER\n",
        "    model.add(Dense(64,activation='relu'))\n",
        "    #OUTPUT LAYER\n",
        "    model.add(Dense(10, activation='softmax'))\n",
        "    \n",
        "    return model"
      ],
      "metadata": {
        "id": "nsSVNahxIrSM"
      },
      "execution_count": 96,
      "outputs": []
    },
    {
      "cell_type": "code",
      "source": [
        "def cnn_model_2():\n",
        "    model = Sequential()\n",
        "    \n",
        "    #FIRST CONV LAYER\n",
        "    model.add(Conv2D(64, (3, 3), activation='relu',\n",
        "              kernel_initializer='he_uniform', input_shape=(28, 28, 1))) #Initializers define the way to set the initial random weights of Keras layers.\n",
        "    \n",
        "    model.add(MaxPooling2D((2, 2))) #single maximum value of 2x2 will be taken\n",
        "    \n",
        "    \n",
        "    model.add(Flatten()) #from 2D to 1D\n",
        "    #FIRST DENSE LAYER\n",
        "    model.add(Dense(50, activation='relu', kernel_initializer='he_uniform')) #fully connected ANN\n",
        "    #SECOND DENSE LAYER\n",
        "    model.add(Dense(32,activation='relu'))\n",
        "    #OUTPUT LAYER\n",
        "    model.add(Dense(10, activation='softmax'))\n",
        "    \n",
        "    return model"
      ],
      "metadata": {
        "id": "rSPZ0xwzIsmq"
      },
      "execution_count": 97,
      "outputs": []
    },
    {
      "cell_type": "code",
      "source": [
        "def cnn_model_3():\n",
        "    model = Sequential()\n",
        "    \n",
        "    #FIRST CONV LAYER\n",
        "    model.add(Conv2D(64, (3, 3), activation='relu',\n",
        "              kernel_initializer='he_uniform', input_shape=(28, 28, 1))) #Initializers define the way to set the initial random weights of Keras layers.\n",
        "    \n",
        "    model.add(MaxPooling2D((2, 2))) #single maximum value of 2x2 will be taken\n",
        "    #SECOND CONV LAYER \n",
        "    model.add(Conv2D(64, (3, 3), activation='relu',\n",
        "              kernel_initializer='he_uniform', input_shape=(28, 28, 1)))\n",
        "    \n",
        "    model.add(MaxPooling2D((2, 2)))\n",
        "    #THIRD CONV LAYER \n",
        "    model.add(Conv2D(32, (3, 3), activation='relu',\n",
        "              kernel_initializer='he_uniform', input_shape=(28, 28, 1)))\n",
        "    \n",
        "    model.add(MaxPooling2D((2, 2)))\n",
        "    \n",
        "    \n",
        "    model.add(Flatten()) #from 2D to 1D\n",
        "    #FIRST DENSE LAYER\n",
        "    model.add(Dense(100, activation='relu', kernel_initializer='he_uniform')) #fully connected ANN\n",
        "    #SECOND DENSE LAYER\n",
        "    model.add(Dense(64,activation='relu'))\n",
        "    #OUTPUT LAYER\n",
        "    model.add(Dense(10, activation='softmax'))\n",
        "    \n",
        "    return model"
      ],
      "metadata": {
        "id": "geXGusImIucE"
      },
      "execution_count": 98,
      "outputs": []
    },
    {
      "cell_type": "code",
      "source": [
        "def cnn_model_4():\n",
        "    model = Sequential()\n",
        "    \n",
        "    #FIRST CONV LAYER\n",
        "    model.add(Conv2D(128, (3, 3), activation='relu',\n",
        "              kernel_initializer='he_uniform', input_shape=(28, 28, 1))) #Initializers define the way to set the initial random weights of Keras layers.\n",
        "    \n",
        "    model.add(MaxPooling2D((2, 2))) #single maximum value of 2x2 will be taken\n",
        "    #SECOND CONV LAYER \n",
        "    model.add(Conv2D(16, (3, 3), activation='relu',\n",
        "              kernel_initializer='he_uniform', input_shape=(28, 28, 1)))\n",
        "    \n",
        "    model.add(MaxPooling2D((2, 2)))\n",
        "    \n",
        "    \n",
        "    model.add(Flatten()) #from 2D to 1D\n",
        "    #FIRST DENSE LAYER\n",
        "    model.add(Dense(64, activation='relu', kernel_initializer='he_uniform')) #fully connected ANN\n",
        "    \n",
        "    #OUTPUT LAYER\n",
        "    model.add(Dense(10, activation='softmax'))\n",
        "    \n",
        "    return model"
      ],
      "metadata": {
        "id": "rgKdBH6QIy2k"
      },
      "execution_count": 99,
      "outputs": []
    },
    {
      "cell_type": "code",
      "source": [
        "def kFold(model, mN, x_train, y_train, x_test, y_test):\n",
        "    error=0\n",
        "    acc=0\n",
        "    nEpochs=2\n",
        "    print(\"Model\",mN)\n",
        "    for i in range(5):\n",
        "        #spliting data into train & val\n",
        "        xTrain, vxTrain, yTrain, vyTrain = train_test_split(x_train, y_train, test_size=.2)\n",
        "\n",
        "        print(\"Fold\", i+1)\n",
        "        model.compile(loss=\"sparse_categorical_crossentropy\", optimizer=\"adam\", metrics=['accuracy'])\n",
        "\n",
        "        #training the model\n",
        "        hist = model.fit(xTrain, yTrain, epochs = nEpochs, shuffle = True, validation_data=(vxTrain, vyTrain))\n",
        "        error += sum(np.array(hist.history['val_loss'])) / nEpochs\n",
        "        acc += sum(np.array(hist.history['val_accuracy'])) / nEpochs\n",
        "\n",
        "    error/=5\n",
        "    acc/=5\n",
        "\n",
        "    #Avg error\n",
        "    print(\"Avg error of the validation\", error)\n",
        "    print(\"Avg accuracy of the validation\", acc)\n",
        "    #Accuracy for test\n",
        "    test_loss, test_acc = model.evaluate(x_test,y_test)\n",
        "    print(\"Test loss\", test_loss)\n",
        "    print(\"Test accuracy\", test_acc)\n",
        "    print('-----------------------------------------------------------------------------------------------------------------------------')\n",
        "    return error,acc, test_loss, test_acc"
      ],
      "metadata": {
        "id": "9b-8ZrwPskKX"
      },
      "execution_count": 100,
      "outputs": []
    },
    {
      "cell_type": "code",
      "source": [
        "x_train, y_train, x_test, y_test = load_dataset()\n",
        "x_train_normalized, x_test_normalized = normalize_data(x_train, x_test)"
      ],
      "metadata": {
        "id": "ZRC5i-UWI14k"
      },
      "execution_count": 101,
      "outputs": []
    },
    {
      "cell_type": "code",
      "source": [
        "error1, vAcc1, test_loss1, test_acc1 = kFold(cnn_model_1(), 1, x_train_normalized, y_train, x_test_normalized, y_test)"
      ],
      "metadata": {
        "colab": {
          "base_uri": "https://localhost:8080/"
        },
        "id": "IUJSBQX-v8Ro",
        "outputId": "13c9bdaa-d079-4af8-d22a-49344fe3ffb4"
      },
      "execution_count": 102,
      "outputs": [
        {
          "output_type": "stream",
          "name": "stdout",
          "text": [
            "Model 1\n",
            "Fold 1\n",
            "Epoch 1/2\n",
            "1500/1500 [==============================] - 66s 44ms/step - loss: 0.1351 - accuracy: 0.9590 - val_loss: 0.0672 - val_accuracy: 0.9781\n",
            "Epoch 2/2\n",
            "1500/1500 [==============================] - 65s 43ms/step - loss: 0.0495 - accuracy: 0.9850 - val_loss: 0.0532 - val_accuracy: 0.9834\n",
            "Fold 2\n",
            "Epoch 1/2\n",
            "1500/1500 [==============================] - 65s 43ms/step - loss: 0.0397 - accuracy: 0.9881 - val_loss: 0.0493 - val_accuracy: 0.9853\n",
            "Epoch 2/2\n",
            "1500/1500 [==============================] - 65s 43ms/step - loss: 0.0258 - accuracy: 0.9918 - val_loss: 0.0448 - val_accuracy: 0.9874\n",
            "Fold 3\n",
            "Epoch 1/2\n",
            "1500/1500 [==============================] - 65s 43ms/step - loss: 0.0250 - accuracy: 0.9921 - val_loss: 0.0204 - val_accuracy: 0.9941\n",
            "Epoch 2/2\n",
            "1500/1500 [==============================] - 64s 43ms/step - loss: 0.0162 - accuracy: 0.9948 - val_loss: 0.0248 - val_accuracy: 0.9923\n",
            "Fold 4\n",
            "Epoch 1/2\n",
            "1500/1500 [==============================] - 66s 43ms/step - loss: 0.0171 - accuracy: 0.9952 - val_loss: 0.0174 - val_accuracy: 0.9936\n",
            "Epoch 2/2\n",
            "1500/1500 [==============================] - 65s 43ms/step - loss: 0.0118 - accuracy: 0.9966 - val_loss: 0.0238 - val_accuracy: 0.9929\n",
            "Fold 5\n",
            "Epoch 1/2\n",
            "1500/1500 [==============================] - 66s 44ms/step - loss: 0.0135 - accuracy: 0.9958 - val_loss: 0.0118 - val_accuracy: 0.9963\n",
            "Epoch 2/2\n",
            "1500/1500 [==============================] - 65s 43ms/step - loss: 0.0114 - accuracy: 0.9964 - val_loss: 0.0166 - val_accuracy: 0.9941\n",
            "Avg error of the validation 0.03292300440371036\n",
            "Avg accuracy of the validation 0.9897500038146972\n",
            "313/313 [==============================] - 4s 12ms/step - loss: 0.0416 - accuracy: 0.9899\n",
            "Test loss 0.041568491607904434\n",
            "Test accuracy 0.9898999929428101\n",
            "-----------------------------------------------------------------------------------------------------------------------------\n"
          ]
        }
      ]
    },
    {
      "cell_type": "code",
      "source": [
        "error2, vAcc2, test_loss2, test_acc2 = kFold(cnn_model_2(), 2, x_train_normalized, y_train, x_test_normalized, y_test)"
      ],
      "metadata": {
        "colab": {
          "base_uri": "https://localhost:8080/"
        },
        "id": "QtsBfj3L71Bf",
        "outputId": "f5da429a-80d7-458b-be89-c6ae8a91d5af"
      },
      "execution_count": 103,
      "outputs": [
        {
          "output_type": "stream",
          "name": "stdout",
          "text": [
            "Model 2\n",
            "Fold 1\n",
            "Epoch 1/2\n",
            "1500/1500 [==============================] - 37s 24ms/step - loss: 0.1862 - accuracy: 0.9424 - val_loss: 0.1053 - val_accuracy: 0.9692\n",
            "Epoch 2/2\n",
            "1500/1500 [==============================] - 36s 24ms/step - loss: 0.0618 - accuracy: 0.9810 - val_loss: 0.0694 - val_accuracy: 0.9784\n",
            "Fold 2\n",
            "Epoch 1/2\n",
            "1500/1500 [==============================] - 38s 25ms/step - loss: 0.0503 - accuracy: 0.9846 - val_loss: 0.0484 - val_accuracy: 0.9848\n",
            "Epoch 2/2\n",
            "1500/1500 [==============================] - 35s 23ms/step - loss: 0.0285 - accuracy: 0.9908 - val_loss: 0.0564 - val_accuracy: 0.9826\n",
            "Fold 3\n",
            "Epoch 1/2\n",
            "1500/1500 [==============================] - 36s 23ms/step - loss: 0.0281 - accuracy: 0.9905 - val_loss: 0.0253 - val_accuracy: 0.9920\n",
            "Epoch 2/2\n",
            "1500/1500 [==============================] - 35s 24ms/step - loss: 0.0161 - accuracy: 0.9948 - val_loss: 0.0362 - val_accuracy: 0.9876\n",
            "Fold 4\n",
            "Epoch 1/2\n",
            "1500/1500 [==============================] - 35s 23ms/step - loss: 0.0180 - accuracy: 0.9940 - val_loss: 0.0139 - val_accuracy: 0.9950\n",
            "Epoch 2/2\n",
            "1500/1500 [==============================] - 35s 23ms/step - loss: 0.0097 - accuracy: 0.9968 - val_loss: 0.0150 - val_accuracy: 0.9952\n",
            "Fold 5\n",
            "Epoch 1/2\n",
            "1500/1500 [==============================] - 36s 24ms/step - loss: 0.0125 - accuracy: 0.9961 - val_loss: 0.0100 - val_accuracy: 0.9969\n",
            "Epoch 2/2\n",
            "1500/1500 [==============================] - 35s 23ms/step - loss: 0.0086 - accuracy: 0.9971 - val_loss: 0.0139 - val_accuracy: 0.9955\n",
            "Avg error of the validation 0.039365456253290174\n",
            "Avg accuracy of the validation 0.9877166748046875\n",
            "313/313 [==============================] - 2s 7ms/step - loss: 0.0580 - accuracy: 0.9863\n",
            "Test loss 0.057957202196121216\n",
            "Test accuracy 0.986299991607666\n",
            "-----------------------------------------------------------------------------------------------------------------------------\n"
          ]
        }
      ]
    },
    {
      "cell_type": "code",
      "source": [
        "error3, vAcc3, test_loss3, test_acc3 = kFold(cnn_model_3(), 3, x_train_normalized, y_train, x_test_normalized, y_test)"
      ],
      "metadata": {
        "colab": {
          "base_uri": "https://localhost:8080/"
        },
        "id": "9ajtzmEj71Kq",
        "outputId": "079c2b97-ff5a-4b4e-a683-aa57f02ff942"
      },
      "execution_count": 104,
      "outputs": [
        {
          "output_type": "stream",
          "name": "stdout",
          "text": [
            "Model 3\n",
            "Fold 1\n",
            "Epoch 1/2\n",
            "1500/1500 [==============================] - 69s 45ms/step - loss: 0.2292 - accuracy: 0.9280 - val_loss: 0.1205 - val_accuracy: 0.9649\n",
            "Epoch 2/2\n",
            "1500/1500 [==============================] - 68s 45ms/step - loss: 0.0790 - accuracy: 0.9756 - val_loss: 0.0804 - val_accuracy: 0.9762\n",
            "Fold 2\n",
            "Epoch 1/2\n",
            "1500/1500 [==============================] - 72s 48ms/step - loss: 0.0690 - accuracy: 0.9789 - val_loss: 0.0615 - val_accuracy: 0.9806\n",
            "Epoch 2/2\n",
            "1500/1500 [==============================] - 67s 45ms/step - loss: 0.0505 - accuracy: 0.9849 - val_loss: 0.0604 - val_accuracy: 0.9809\n",
            "Fold 3\n",
            "Epoch 1/2\n",
            "1500/1500 [==============================] - 74s 49ms/step - loss: 0.0429 - accuracy: 0.9868 - val_loss: 0.0573 - val_accuracy: 0.9818\n",
            "Epoch 2/2\n",
            "1500/1500 [==============================] - 70s 47ms/step - loss: 0.0338 - accuracy: 0.9894 - val_loss: 0.0553 - val_accuracy: 0.9834\n",
            "Fold 4\n",
            "Epoch 1/2\n",
            "1500/1500 [==============================] - 67s 44ms/step - loss: 0.0334 - accuracy: 0.9900 - val_loss: 0.0282 - val_accuracy: 0.9911\n",
            "Epoch 2/2\n",
            "1500/1500 [==============================] - 66s 44ms/step - loss: 0.0260 - accuracy: 0.9916 - val_loss: 0.0307 - val_accuracy: 0.9898\n",
            "Fold 5\n",
            "Epoch 1/2\n",
            "1500/1500 [==============================] - 67s 44ms/step - loss: 0.0262 - accuracy: 0.9919 - val_loss: 0.0283 - val_accuracy: 0.9907\n",
            "Epoch 2/2\n",
            "1500/1500 [==============================] - 66s 44ms/step - loss: 0.0198 - accuracy: 0.9933 - val_loss: 0.0205 - val_accuracy: 0.9937\n",
            "Avg error of the validation 0.054308350943028924\n",
            "Avg accuracy of the validation 0.9833166658878326\n",
            "313/313 [==============================] - 4s 12ms/step - loss: 0.0562 - accuracy: 0.9871\n",
            "Test loss 0.05620187520980835\n",
            "Test accuracy 0.9871000051498413\n",
            "-----------------------------------------------------------------------------------------------------------------------------\n"
          ]
        }
      ]
    },
    {
      "cell_type": "code",
      "source": [
        "error4, vAcc4, test_loss4, test_acc4 = kFold(cnn_model_4(), 4, x_train_normalized, y_train, x_test_normalized, y_test)"
      ],
      "metadata": {
        "colab": {
          "base_uri": "https://localhost:8080/"
        },
        "id": "Dz69SFo471Sf",
        "outputId": "432db6f5-af00-426c-a08d-563e2e152377"
      },
      "execution_count": 105,
      "outputs": [
        {
          "output_type": "stream",
          "name": "stdout",
          "text": [
            "Model 4\n",
            "Fold 1\n",
            "Epoch 1/2\n",
            "1500/1500 [==============================] - 87s 57ms/step - loss: 0.1604 - accuracy: 0.9481 - val_loss: 0.0810 - val_accuracy: 0.9750\n",
            "Epoch 2/2\n",
            "1500/1500 [==============================] - 85s 57ms/step - loss: 0.0588 - accuracy: 0.9821 - val_loss: 0.0608 - val_accuracy: 0.9812\n",
            "Fold 2\n",
            "Epoch 1/2\n",
            "1500/1500 [==============================] - 88s 58ms/step - loss: 0.0453 - accuracy: 0.9858 - val_loss: 0.0481 - val_accuracy: 0.9848\n",
            "Epoch 2/2\n",
            "1500/1500 [==============================] - 87s 58ms/step - loss: 0.0317 - accuracy: 0.9899 - val_loss: 0.0474 - val_accuracy: 0.9860\n",
            "Fold 3\n",
            "Epoch 1/2\n",
            "1500/1500 [==============================] - 88s 58ms/step - loss: 0.0300 - accuracy: 0.9907 - val_loss: 0.0321 - val_accuracy: 0.9907\n",
            "Epoch 2/2\n",
            "1500/1500 [==============================] - 87s 58ms/step - loss: 0.0208 - accuracy: 0.9930 - val_loss: 0.0348 - val_accuracy: 0.9898\n",
            "Fold 4\n",
            "Epoch 1/2\n",
            "1500/1500 [==============================] - 84s 56ms/step - loss: 0.0221 - accuracy: 0.9929 - val_loss: 0.0230 - val_accuracy: 0.9933\n",
            "Epoch 2/2\n",
            "1500/1500 [==============================] - 83s 56ms/step - loss: 0.0139 - accuracy: 0.9959 - val_loss: 0.0235 - val_accuracy: 0.9929\n",
            "Fold 5\n",
            "Epoch 1/2\n",
            "1500/1500 [==============================] - 90s 59ms/step - loss: 0.0166 - accuracy: 0.9945 - val_loss: 0.0151 - val_accuracy: 0.9952\n",
            "Epoch 2/2\n",
            "1500/1500 [==============================] - 89s 59ms/step - loss: 0.0107 - accuracy: 0.9966 - val_loss: 0.0147 - val_accuracy: 0.9958\n",
            "Avg error of the validation 0.038054510857909916\n",
            "Avg accuracy of the validation 0.9884666740894318\n",
            "313/313 [==============================] - 4s 13ms/step - loss: 0.0372 - accuracy: 0.9888\n",
            "Test loss 0.03718392178416252\n",
            "Test accuracy 0.9887999892234802\n",
            "-----------------------------------------------------------------------------------------------------------------------------\n"
          ]
        }
      ]
    },
    {
      "cell_type": "code",
      "source": [
        "file = open(\"Output.txt\", \"w\")\n",
        "file.write(\"Model 1\\n\")\n",
        "file.write(\"Avg error of the validation \"+ str(error1)+ \"\\n\")\n",
        "file.write(\"Avg accuracy of the validation \"+ str(vAcc1)+ \"\\n\")\n",
        "file.write(\"Test loss \"+ str(test_loss1)+ \"\\n\")\n",
        "file.write(\"Test accuracy \"+ str(test_acc1)+ \"\\n\")\n",
        "file.write(\"---------------------------------------\\n\")\n",
        "\n",
        "file.write(\"Model 2\\n\")\n",
        "file.write(\"Avg error of the validation \"+ str(error2)+ \"\\n\")\n",
        "file.write(\"Avg accuracy of the validation \"+ str(vAcc2)+ \"\\n\")\n",
        "file.write(\"Test loss \"+ str(test_loss2)+ \"\\n\")\n",
        "file.write(\"Test accuracy \"+ str(test_acc2)+ \"\\n\")\n",
        "file.write(\"---------------------------------------\\n\")\n",
        "\n",
        "file.write(\"Model 3\\n\")\n",
        "file.write(\"Avg error of the validation \"+ str(error3)+ \"\\n\")\n",
        "file.write(\"Avg accuracy of the validation \"+ str(vAcc3)+ \"\\n\")\n",
        "file.write(\"Test loss \"+ str(test_loss3)+ \"\\n\")\n",
        "file.write(\"Test accuracy \"+ str(test_acc3)+ \"\\n\")\n",
        "file.write(\"---------------------------------------\\n\")\n",
        "\n",
        "file.write(\"Model 4\\n\")\n",
        "file.write(\"Avg error of the validation \"+ str(error4)+ \"\\n\")\n",
        "file.write(\"Avg accuracy of the validation \"+ str(vAcc4)+ \"\\n\")\n",
        "file.write(\"Test loss \"+ str(test_loss4)+ \"\\n\")\n",
        "file.write(\"Test accuracy \"+ str(test_acc4)+ \"\\n\")\n",
        "file.write(\"---------------------------------------\\n\")\n",
        "file.close()"
      ],
      "metadata": {
        "id": "qxjpNVEkGG_p"
      },
      "execution_count": 106,
      "outputs": []
    }
  ]
}